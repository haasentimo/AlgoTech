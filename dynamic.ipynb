{
 "cells": [
  {
   "metadata": {},
   "cell_type": "markdown",
   "source": [
    "# Dynamic Programming\n",
    "\n",
    "Grundprinzipien von Dynamischem Programmieren (DP)\n",
    "1. Optimale Teilstruktur\n",
    "Eine optimale Lösung enthält optimale Lösungen von Teilproblemen.\n",
    "\n",
    "2. Überlappende Teilprobleme\n",
    "Viele Teilprobleme tauchen mehrfach auf → vermeide doppelte Berechnungen!\n",
    "\n",
    "3. Tabellenspeicherung (Memoisierung)\n",
    "Zwischenergebnisse werden gespeichert, entweder:\n",
    "\n",
    "    - Bottom-up: Iterativ (z.B. Fibonacci mit Schleife)\n",
    "\n",
    "    - Top-down: Rekursiv mit Cache"
   ],
   "id": "e296de906d1ee12b"
  },
  {
   "metadata": {},
   "cell_type": "markdown",
   "source": [
    "## Climbing Stairs\n",
    "\n",
    "https://leetcode.com/problems/climbing-stairs/description/\n",
    "\n",
    "You are climbing a staircase. It takes n steps to reach the top.\n",
    "\n",
    "Each time you can either climb 1 or 2 steps. In how many distinct ways can you climb to the top?\n",
    "\n",
    "Example 1:\n",
    "\n",
    "Input: n = 2\n",
    "Output: 2\n",
    "Explanation: There are two ways to climb to the top.\n",
    "1. 1 step + 1 step\n",
    "2. 2 steps"
   ],
   "id": "b53c7c006166ccd5"
  },
  {
   "metadata": {
    "ExecuteTime": {
     "end_time": "2025-06-30T08:53:51.202889Z",
     "start_time": "2025-06-30T08:53:51.191390Z"
    }
   },
   "cell_type": "code",
   "source": [
    "def climbStairs(n):\n",
    "    if n <= 2:\n",
    "        return n\n",
    "    prev1, prev2 = 2, 1\n",
    "    for i in range(3, n+1):\n",
    "        curr = prev1 + prev2\n",
    "        prev2 = prev1\n",
    "        prev1 = curr\n",
    "    return prev1\n",
    "\n",
    "climbStairs(5)\n",
    "\n",
    "def climbStairs2(n):\n",
    "    dp = [0] * (n+1)\n",
    "    dp[0] = dp[1] = 1\n",
    "    for i in range(2, n+1):\n",
    "        dp[i] = dp[i-1] + dp[i-2]\n",
    "    print(dp)\n",
    "    return dp[n]\n",
    "\n",
    "climbStairs2(10)\n"
   ],
   "id": "584cebc0b2cc888b",
   "outputs": [
    {
     "name": "stdout",
     "output_type": "stream",
     "text": [
      "[1, 1, 2, 3, 5, 8, 13, 21, 34, 55, 89]\n"
     ]
    },
    {
     "data": {
      "text/plain": [
       "89"
      ]
     },
     "execution_count": 7,
     "metadata": {},
     "output_type": "execute_result"
    }
   ],
   "execution_count": 7
  },
  {
   "metadata": {},
   "cell_type": "markdown",
   "source": [
    "## Min COst Climbing Stairs\n",
    "\n",
    "https://leetcode.com/problems/min-cost-climbing-stairs/description/\n",
    "\n",
    "You are given an integer array cost where cost[i] is the cost of ith step on a staircase. Once you pay the cost, you can either climb one or two steps.\n",
    "\n",
    "You can either start from the step with index 0, or the step with index 1.\n",
    "\n",
    "Return the minimum cost to reach the top of the floor.\n",
    "\n",
    "Example 1:\n",
    "\n",
    "Input: cost = [10,15,20]\n",
    "Output: 15\n",
    "Explanation: You will start at index 1.\n",
    "- Pay 15 and climb two steps to reach the top.\n",
    "The total cost is 15.\n",
    "\n",
    "Example 2:\n",
    "\n",
    "Input: cost = [1,100,1,1,1,100,1,1,100,1]\n",
    "Output: 6\n",
    "Explanation: You will start at index 0.\n",
    "- Pay 1 and climb two steps to reach index 2.\n",
    "- Pay 1 and climb two steps to reach index 4.\n",
    "- Pay 1 and climb two steps to reach index 6.\n",
    "- Pay 1 and climb one step to reach index 7.\n",
    "- Pay 1 and climb two steps to reach index 9.\n",
    "- Pay 1 and climb one step to reach the top.\n",
    "The total cost is 6."
   ],
   "id": "a67913fd07052cea"
  },
  {
   "metadata": {
    "ExecuteTime": {
     "end_time": "2025-06-30T09:12:21.990054Z",
     "start_time": "2025-06-30T09:12:21.982556Z"
    }
   },
   "cell_type": "code",
   "source": [
    "cost = [1,100,1,1,1,100,1,1,100,1]\n",
    "\n",
    "def minCostClimbingStairs(cost):\n",
    "    n = len(cost)\n",
    "    dp = [0] * (n+1)\n",
    "\n",
    "    # Basisfälle beide 0, der erste Sprung kostet nichts. Man zahlt immer wenn man auf einer Stufe landet\n",
    "    dp[0] = dp[1] = 0\n",
    "\n",
    "    for i in range(2, n + 1):\n",
    "        dp[i] = min(dp[i-1] + cost[i-1],    # Kosten um von der vorherigen stufe auf die jetzige zu kommen\n",
    "                    dp[i-2] + cost[i-2])    # Kosten um von 2 stufen davor auf die jetzige zu kommen\n",
    "\n",
    "    print(dp)\n",
    "    return dp[n]\n",
    "\n",
    "minCostClimbingStairs(cost)"
   ],
   "id": "9983d94f4385cca9",
   "outputs": [
    {
     "name": "stdout",
     "output_type": "stream",
     "text": [
      "[0, 0, 1, 2, 2, 3, 3, 4, 4, 5, 6]\n"
     ]
    },
    {
     "data": {
      "text/plain": [
       "6"
      ]
     },
     "execution_count": 10,
     "metadata": {},
     "output_type": "execute_result"
    }
   ],
   "execution_count": 10
  },
  {
   "metadata": {},
   "cell_type": "markdown",
   "source": "Bei Bottom-up muss man nie an die zukünftigen Schritte denken. Es wird immer basierend auf der Vergangenheit entschieden, also auf schon berechneten Werten.",
   "id": "b8af1dd4d02b4679"
  },
  {
   "metadata": {},
   "cell_type": "markdown",
   "source": [
    "## House Robber\n",
    "\n",
    "https://leetcode.com/problems/house-robber/description/\n",
    "\n",
    "You are a professional robber planning to rob houses along a street. Each house has a certain amount of money stashed, the only constraint stopping you from robbing each of them is that adjacent houses have security systems connected and it will automatically contact the police if two adjacent houses were broken into on the same night.\n",
    "\n",
    "Given an integer array nums representing the amount of money of each house, return the maximum amount of money you can rob tonight without alerting the police.\n",
    "\n",
    "Example 1:\n",
    "\n",
    "Input: nums = [1,2,3,1]\n",
    "Output: 4\n",
    "Explanation: Rob house 1 (money = 1) and then rob house 3 (money = 3).\n",
    "Total amount you can rob = 1 + 3 = 4.\n",
    "\n",
    "Example 2:\n",
    "\n",
    "Input: nums = [2,7,9,3,1]\n",
    "Output: 12\n",
    "Explanation: Rob house 1 (money = 2), rob house 3 (money = 9) and rob house 5 (money = 1).\n",
    "Total amount you can rob = 2 + 9 + 1 = 12."
   ],
   "id": "65945b7668771383"
  },
  {
   "metadata": {
    "ExecuteTime": {
     "end_time": "2025-06-30T09:44:36.111351Z",
     "start_time": "2025-06-30T09:44:36.100430Z"
    }
   },
   "cell_type": "code",
   "source": [
    "nums = [1,2,3,1]\n",
    "\n",
    "def rob(amounts):\n",
    "    if not amounts:\n",
    "        return 0\n",
    "    if len(amounts) == 1:\n",
    "        return amounts[0]\n",
    "\n",
    "    dp = [0] * len(amounts)\n",
    "\n",
    "    dp[0] = amounts[0]\n",
    "    dp[1] = max(amounts[0], amounts[1])\n",
    "\n",
    "    for i in range(2, len(amounts)):\n",
    "        dp[i] = max(amounts[i] + dp[i-2], dp[i-1])\n",
    "\n",
    "    print(dp)\n",
    "    return dp[-1]\n",
    "\n",
    "rob(nums)"
   ],
   "id": "e12a892a40585bcf",
   "outputs": [
    {
     "name": "stdout",
     "output_type": "stream",
     "text": [
      "[3, 3, 4, 4]\n"
     ]
    },
    {
     "data": {
      "text/plain": [
       "4"
      ]
     },
     "execution_count": 20,
     "metadata": {},
     "output_type": "execute_result"
    }
   ],
   "execution_count": 20
  },
  {
   "metadata": {},
   "cell_type": "markdown",
   "source": [
    "## Minimum Path Sum\n",
    "\n",
    "https://leetcode.com/problems/minimum-path-sum/description/\n",
    "\n",
    "Given a m x n grid filled with non-negative numbers, find a path from top left to bottom right, which minimizes the sum of all numbers along its path.\n",
    "\n",
    "Note: You can only move either down or right at any point in time.\n",
    "\n",
    "Example 1:\n",
    "\n",
    "![image.png](attachment:9834eb43-885b-48e4-afb0-77e846c63931.png)\n",
    "\n",
    "Input: grid = [[1,3,1],[1,5,1],[4,2,1]]\n",
    "Output: 7\n",
    "Explanation: Because the path 1 → 3 → 1 → 1 → 1 minimizes the sum."
   ],
   "id": "1d46d6599a90933f",
   "attachments": {
    "9834eb43-885b-48e4-afb0-77e846c63931.png": {
     "image/png": "[encoded data removed]"
    }
   }
  },
  {
   "metadata": {
    "ExecuteTime": {
     "end_time": "2025-06-30T10:20:15.185997Z",
     "start_time": "2025-06-30T10:20:15.175997Z"
    }
   },
   "cell_type": "code",
   "source": [
    "grid = [[1,3,1],[1,5,1],[4,2,1]]\n",
    "def minPathSum(grid):\n",
    "    m = len(grid)\n",
    "    n = len(grid[0])\n",
    "    dp = [[0] * n for _ in range(m)]\n",
    "\n",
    "    dp[0][0] = grid[0][0]\n",
    "    # Zuerst Randfälle behandeln (1. Zeile und Spalte)\n",
    "    for i in range(1, m):\n",
    "        dp[i][0] = dp[i-1][0] + grid[i][0]\n",
    "\n",
    "    for j in range(1, n):\n",
    "        dp[0][j] = dp[0][j-1] + grid[0][j]\n",
    "\n",
    "    for i in range(1, m):\n",
    "        for j in range(1, n):\n",
    "            # Wir kommen entweder von links oder von oben und suchen davon das min aus\n",
    "            dp[i][j] = min(dp[i-1][j], dp[i][j-1]) + grid[i][j]\n",
    "    print(dp)\n",
    "    return dp[m-1][n-1]\n",
    "\n",
    "minPathSum(grid)"
   ],
   "id": "ebe7bfebfe7a0ca1",
   "outputs": [
    {
     "name": "stdout",
     "output_type": "stream",
     "text": [
      "[[1, 4, 5], [2, 7, 6], [6, 8, 7]]\n"
     ]
    },
    {
     "data": {
      "text/plain": [
       "7"
      ]
     },
     "execution_count": 21,
     "metadata": {},
     "output_type": "execute_result"
    }
   ],
   "execution_count": 21
  },
  {
   "metadata": {},
   "cell_type": "markdown",
   "source": [
    "## Unique Paths\n",
    "\n",
    "There is a robot on an m x n grid. The robot is initially located at the top-left corner (i.e., grid[0][0]). The robot tries to move to the bottom-right corner (i.e., grid[m - 1][n - 1]). The robot can only move either down or right at any point in time.\n",
    "\n",
    "Given the two integers m and n, return the number of possible unique paths that the robot can take to reach the bottom-right corner.\n",
    "\n",
    "The test cases are generated so that the answer will be less than or equal to 2 * 109.\n",
    "\n",
    "Example 1:\n",
    "\n",
    "Input: m = 3, n = 7\n",
    "Output: 28"
   ],
   "id": "de89e3a13aa01585"
  },
  {
   "metadata": {
    "ExecuteTime": {
     "end_time": "2025-06-30T10:44:00.704324Z",
     "start_time": "2025-06-30T10:44:00.697325Z"
    }
   },
   "cell_type": "code",
   "source": [
    "def uniquePaths(m, n):\n",
    "    dp = [[0] * n for _ in range(m)]\n",
    "\n",
    "    # Es gibt nur einen weg ins erste feld\n",
    "    dp[0][0] = 1\n",
    "\n",
    "    # nur nach unten/rechts gibt es auch jeweils nur einen weg\n",
    "    for i in range(1, m):\n",
    "        dp[i][0] = 1\n",
    "\n",
    "    for j in range(1, n):\n",
    "        dp[0][j] = 1\n",
    "\n",
    "    for i in range(1, m):\n",
    "        for j in range(1, n):\n",
    "            # Anzahl wege = Anzahl wege links + Anzahl wege oben\n",
    "            dp[i][j] = dp[i][j-1] + dp[i-1][j]\n",
    "    return dp[m-1][n-1]\n",
    "\n",
    "uniquePaths(3,7)"
   ],
   "id": "e7637ab95c1e2be7",
   "outputs": [
    {
     "data": {
      "text/plain": [
       "28"
      ]
     },
     "execution_count": 22,
     "metadata": {},
     "output_type": "execute_result"
    }
   ],
   "execution_count": 22
  },
  {
   "metadata": {},
   "cell_type": "markdown",
   "source": [
    "## Klausuraufgabe Zahlendreieck\n",
    "\n"
   ],
   "id": "dc955db4ed5b3076"
  },
  {
   "metadata": {
    "ExecuteTime": {
     "end_time": "2025-06-30T12:08:03.018825Z",
     "start_time": "2025-06-30T12:08:03.002326Z"
    }
   },
   "cell_type": "code",
   "source": [
    "triangle = [\n",
    "    [10, -1, -1, -1, -1, -1, -1],\n",
    "    [82, 81, -1, -1, -1, -1, -1],\n",
    "    [4, 6, 10, -1, -1, -1, -1],\n",
    "    [2, 14, 35, 7, -1, -1, -1],\n",
    "    [41, 3, 52, 26, 15, -1, -1],\n",
    "    [32, 90, 11, 87, 56, 23, -1],\n",
    "    [54, 65, 89, 32, 71, 9, 31]\n",
    "]\n",
    "\n",
    "def solve(triangle):\n",
    "    m = n = len(triangle) #geht aus Aufgabe hervor dass m= n\n",
    "\n",
    "    dp = [[0] * n for _ in range(n)]\n",
    "\n",
    "    dp[0][0] = triangle[0][0]\n",
    "    print(dp[0][0])\n",
    "\n",
    "    for i in range(1, n):\n",
    "        dp[i][0] = dp[i-1][0] + triangle[i][0]\n",
    "\n",
    "    for i in range(1, n):\n",
    "        for j in range(1, n):\n",
    "            if dp[i][j] == -1:\n",
    "                break\n",
    "            dp[i][j] = max(dp[i-1][j-1], dp[i-1][j]) + triangle[i][j]\n",
    "\n",
    "    print(dp)\n",
    "    return max(dp[n-1])\n",
    "\n",
    "solve(triangle)"
   ],
   "id": "ac0444d13b562710",
   "outputs": [
    {
     "name": "stdout",
     "output_type": "stream",
     "text": [
      "10\n",
      "[[10, 0, 0, 0, 0, 0, 0], [92, 91, -1, -1, -1, -1, -1], [96, 98, 101, -2, -2, -2, -2], [98, 112, 136, 108, -3, -3, -3], [139, 115, 188, 162, 123, -4, -4], [171, 229, 199, 275, 218, 146, -5], [225, 294, 318, 307, 346, 227, 177]]\n"
     ]
    },
    {
     "data": {
      "text/plain": [
       "346"
      ]
     },
     "execution_count": 28,
     "metadata": {},
     "output_type": "execute_result"
    }
   ],
   "execution_count": 28
  },
  {
   "metadata": {},
   "cell_type": "markdown",
   "source": [
    "## Klausuraufgabe Catalan Zahlen\n",
    "\n",
    "Entwerfen Sie ein dynamisches Programm, das die folgenden rekursiv definieren\n",
    "Catalan-Zahlen berechnet\n",
    "\n",
    "\n"
   ],
   "id": "c0abee33c0a12da4"
  },
  {
   "metadata": {
    "ExecuteTime": {
     "end_time": "2025-06-30T12:49:37.627650Z",
     "start_time": "2025-06-30T12:49:37.608651Z"
    }
   },
   "cell_type": "code",
   "source": [
    "def catalan(N):\n",
    "    C = [0] * (N +1)\n",
    "\n",
    "    C[0] = 1\n",
    "\n",
    "    for n in range(1, N +1):\n",
    "        for k in range(n):\n",
    "            C[n] += C[k] * C[n - 1 - k]\n",
    "    return C[N]\n",
    "\n",
    "catalan(5)"
   ],
   "id": "13e6e4fcfe25f98",
   "outputs": [
    {
     "data": {
      "text/plain": [
       "42"
      ]
     },
     "execution_count": 36,
     "metadata": {},
     "output_type": "execute_result"
    }
   ],
   "execution_count": 36
  },
  {
   "metadata": {},
   "cell_type": "markdown",
   "source": [
    "## Klassisches 0/1 Knapsack Problem\n",
    "\n",
    "Gegeben sind:\n",
    "\n",
    "- Ein Array weights mit den Gewichten der Gegenstände\n",
    "\n",
    "- Ein Array values mit den zugehörigen Werten\n",
    "\n",
    "- Eine Kapazität W (Maximalgewicht des Rucksacks)\n",
    "\n",
    "Du darfst jeden Gegenstand höchstens einmal wählen.\n",
    "Finde den maximalen Gesamtwert, den du in den Rucksack packen kannst, ohne das Gewicht W zu überschreiten."
   ],
   "id": "e2b8d7c7a09998dd"
  },
  {
   "metadata": {
    "ExecuteTime": {
     "end_time": "2025-06-30T13:20:52.561774Z",
     "start_time": "2025-06-30T13:20:52.555272Z"
    }
   },
   "cell_type": "code",
   "source": [
    "weights = [2, 3, 4, 5]\n",
    "values =  [3, 4, 5, 6]\n",
    "W = 5\n",
    "\n",
    "def knapSack(weights, values, W):\n",
    "    n = len(weights)\n",
    "    dp = [[0] * (W + 1) for _ in range(n + 1)]  # Matrix mit Dimensionen Anzahl gegenstände x Gewicht\n",
    "\n",
    "    # Basiswerte sind schon alle auf 0 gesetzt\n",
    "\n",
    "    for gegenstand in range(1, n+1):\n",
    "        for gewicht in range(W + 1):\n",
    "            if weights[gegenstand-1] <= gewicht:\n",
    "                dp[gegenstand][gewicht] = max(dp[gegenstand - 1][gewicht],\n",
    "                                              values[gegenstand-1] + dp[gegenstand - 1][gewicht - weights[gegenstand - 1]])\n",
    "            else:\n",
    "                dp[gegenstand][gewicht] = dp[gegenstand - 1][gewicht]\n",
    "    return dp[n][W]\n",
    "\n",
    "knapSack(weights, values, W)"
   ],
   "id": "3c875f343d8265b2",
   "outputs": [
    {
     "data": {
      "text/plain": [
       "7"
      ]
     },
     "execution_count": 37,
     "metadata": {},
     "output_type": "execute_result"
    }
   ],
   "execution_count": 37
  },
  {
   "metadata": {},
   "cell_type": "markdown",
   "source": "scheiß kopffick bitte komm nicht dran",
   "id": "9f641cd893d047a9"
  }
 ],
 "metadata": {
  "kernelspec": {
   "display_name": "Python 3",
   "language": "python",
   "name": "python3"
  },
  "language_info": {
   "codemirror_mode": {
    "name": "ipython",
    "version": 2
   },
   "file_extension": ".py",
   "mimetype": "text/x-python",
   "name": "python",
   "nbconvert_exporter": "python",
   "pygments_lexer": "ipython2",
   "version": "2.7.6"
  }
 },
 "nbformat": 4,
 "nbformat_minor": 5
}
