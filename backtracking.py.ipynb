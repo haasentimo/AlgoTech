{
 "cells": [
  {
   "metadata": {},
   "cell_type": "markdown",
   "source": "## Backtracking",
   "id": "1eae3eb0264cc349"
  },
  {
   "metadata": {},
   "cell_type": "markdown",
   "source": [
    "## Partition einer natürlichen Zahl\n",
    "\n",
    "Jede natürliche Zahl n lässt sich als Summe natürlicher Zahlen schreiben. Für alle Zahlen größer als 1 gibt es dafür mehrere Möglichkeiten, siehe Beispiel.\n",
    "Beispiel:\n",
    "5=1+1+1+1+1=1+1+1+2=1+1+3=1+2+2=1+4=2+3=5\n",
    "Das sind sieben verschiedene Lösungen.\n",
    "Schreiben Sie ein Programm mit Backtracking, das alle Partitionen einer gegebenen na-türlichen Zahl n und die Anzahl der Lösungen ausgibt.\n",
    "Eine Lösung kann in einer aufsteigend sortierten Liste x[0],...,x[k] gehalten werden, falls die Summe der x[i] gleich n ist. Dabei wird die Summe der ersten k Listenelemente in s[k] abgelegt. Dann ist eine Liste x[0],...,x[k] ein möglicher Lösungskandidat, wenn seine Summe nicht größer als n ist."
   ],
   "id": "c0f5321e9cbe4cc5"
  },
  {
   "metadata": {
    "ExecuteTime": {
     "end_time": "2025-06-29T16:29:47.131248Z",
     "start_time": "2025-06-29T16:29:47.123748Z"
    }
   },
   "cell_type": "code",
   "source": [
    "test = [1,1,1,1,1]\n",
    "\n",
    "def isCandidate(partition, next_val, n):\n",
    "    return sum(partition) + next_val <= n\n",
    "\n",
    "def isSuccessor(partition, next_val):\n",
    "    return not partition or partition[-1] <= next_val\n",
    "\n",
    "def solvePartition(n):\n",
    "    result = []\n",
    "\n",
    "    def solve(currPartition):\n",
    "        for i in range(1, n + 1):\n",
    "            if isCandidate(currPartition, i, n) and isSuccessor(currPartition, i):\n",
    "                currPartition.append(i)\n",
    "\n",
    "                if sum(currPartition) == n:\n",
    "                    result.append(currPartition.copy())  # Wichtig: kopieren!\n",
    "                else:\n",
    "                    solve(currPartition)\n",
    "\n",
    "                currPartition.pop()  # Backtracking\n",
    "\n",
    "    solve([])\n",
    "    return result\n",
    "\n",
    "parti = solvePartition(5)\n",
    "print(parti, len(parti))\n"
   ],
   "id": "11901e9de090a0f8",
   "outputs": [
    {
     "name": "stdout",
     "output_type": "stream",
     "text": [
      "[[1, 1, 1, 1, 1], [1, 1, 1, 2], [1, 1, 3], [1, 2, 2], [1, 4], [2, 3], [5]] 7\n"
     ]
    }
   ],
   "execution_count": 8
  },
  {
   "metadata": {},
   "cell_type": "markdown",
   "source": [
    "## Graph Coloring\n",
    "\n",
    "Input: V = 4, edges[][] = [[0, 1], [0, 2], [0,3], [1, 3], [2, 3]], m = 3\n",
    "Output: true\n",
    "\n",
    "Input:  V = 5, edges[][] = [[0, 1], [0, 2], [0, 3], [1, 2], [1, 4], [2, 3], [2, 4], [3, 4]], m = 3\n",
    "Output: false\n",
    "\n",
    "https://www.geeksforgeeks.org/dsa/m-coloring-problem/"
   ],
   "id": "2d4b03e312e664f8"
  },
  {
   "metadata": {
    "ExecuteTime": {
     "end_time": "2025-06-29T17:12:22.000985Z",
     "start_time": "2025-06-29T17:12:21.993984Z"
    }
   },
   "cell_type": "code",
   "source": [
    "v1 = 4\n",
    "edges1 =[[0, 1], [0, 2], [0,3], [1, 3], [2, 3]]\n",
    "m1 = 3\n",
    "\n",
    "v2 = 5\n",
    "edges2 =[[0, 1], [0, 2], [0, 3], [1, 2], [1, 4], [2, 3], [2, 4], [3, 4]]\n",
    "m2 = 3\n",
    "\n",
    "v3 = 4\n",
    "edges3 = [[0, 1], [0, 2], [0, 3], [1, 2], [1, 3], [2, 3]]\n",
    "m3 = 3\n",
    "\n",
    "\n",
    "def isValidColor(i, col, adj):\n",
    "    for neighbor in adj[i]:\n",
    "        if col[neighbor] != -1 and col[neighbor] == col[i]:\n",
    "            return False\n",
    "    return True\n",
    "\n",
    "\n",
    "def color(i, col, m, adj):\n",
    "    if i >= len(col):\n",
    "        return True\n",
    "\n",
    "    for j in range(m):\n",
    "        col[i] = j\n",
    "        if isValidColor(i, col, adj):\n",
    "            if color(i + 1, col, m, adj):\n",
    "                return True\n",
    "        col[i] = -1\n",
    "    return False\n",
    "\n",
    "def graphColoring(v, edges, m): #m is the amount of colours to max use\n",
    "    adj = [[] for _ in range(v)]\n",
    "\n",
    "    for u, w in edges:\n",
    "        adj[u].append(w)\n",
    "        adj[w].append(u)\n",
    "\n",
    "    col = [-1] * v\n",
    "    return color(0, col, m, adj)\n",
    "\n",
    "\n",
    "res1 = graphColoring(v1, edges1, m1)\n",
    "res2 = graphColoring(v2, edges2, m2)\n",
    "res3 = graphColoring(v3, edges3, m3)\n",
    "print(res1, res2, res3)"
   ],
   "id": "bc9c76ed2ad8b86",
   "outputs": [
    {
     "name": "stdout",
     "output_type": "stream",
     "text": [
      "True True False\n"
     ]
    }
   ],
   "execution_count": 22
  },
  {
   "metadata": {},
   "cell_type": "markdown",
   "source": [
    "## n Dame Problem\n",
    "\n",
    "Place n dames on a n x n grid so no dame can attack each other dame"
   ],
   "id": "85fde9c3eb4b49e9"
  },
  {
   "metadata": {
    "ExecuteTime": {
     "end_time": "2025-06-29T17:33:11.903968Z",
     "start_time": "2025-06-29T17:33:11.891466Z"
    }
   },
   "cell_type": "code",
   "source": [
    "def solveNQueens(n):\n",
    "    solutions = []\n",
    "\n",
    "    # Chat hat hoffentlich gekocht haha\n",
    "    def isValid(position, row, col):\n",
    "        for r in range(row):\n",
    "            c = position[r]\n",
    "            # Prüfe Spalte und Diagonalen\n",
    "            if c == col or abs(c - col) == abs(r - row):\n",
    "                return False\n",
    "        return True\n",
    "\n",
    "    def solve(row, position):\n",
    "        if row == n:\n",
    "            solutions.append(position[:])\n",
    "            return\n",
    "        for col in range(n):\n",
    "            if isValid(position, row, col):\n",
    "                position.append(col)\n",
    "                solve(row + 1, position)\n",
    "                position.pop() # Backtrack\n",
    "\n",
    "    solve(0, [])\n",
    "    return solutions\n",
    "\n",
    "solveNQueens(5)\n",
    "\n",
    "def print_board(solution):\n",
    "    n = len(solution)\n",
    "    for row in solution:\n",
    "        print(\"\".join(\"Q\" if i == row else \"-\" for i in range(n)))\n",
    "    print()\n",
    "\n",
    "for sol in solveNQueens(5):\n",
    "    print_board(sol)"
   ],
   "id": "c916dd6f992d5366",
   "outputs": [
    {
     "name": "stdout",
     "output_type": "stream",
     "text": [
      "Q----\n",
      "--Q--\n",
      "----Q\n",
      "-Q---\n",
      "---Q-\n",
      "\n",
      "Q----\n",
      "---Q-\n",
      "-Q---\n",
      "----Q\n",
      "--Q--\n",
      "\n",
      "-Q---\n",
      "---Q-\n",
      "Q----\n",
      "--Q--\n",
      "----Q\n",
      "\n",
      "-Q---\n",
      "----Q\n",
      "--Q--\n",
      "Q----\n",
      "---Q-\n",
      "\n",
      "--Q--\n",
      "Q----\n",
      "---Q-\n",
      "-Q---\n",
      "----Q\n",
      "\n",
      "--Q--\n",
      "----Q\n",
      "-Q---\n",
      "---Q-\n",
      "Q----\n",
      "\n",
      "---Q-\n",
      "Q----\n",
      "--Q--\n",
      "----Q\n",
      "-Q---\n",
      "\n",
      "---Q-\n",
      "-Q---\n",
      "----Q\n",
      "--Q--\n",
      "Q----\n",
      "\n",
      "----Q\n",
      "-Q---\n",
      "---Q-\n",
      "Q----\n",
      "--Q--\n",
      "\n",
      "----Q\n",
      "--Q--\n",
      "Q----\n",
      "---Q-\n",
      "-Q---\n",
      "\n"
     ]
    }
   ],
   "execution_count": 27
  }
 ],
 "metadata": {
  "kernelspec": {
   "display_name": "Python 3",
   "language": "python",
   "name": "python3"
  },
  "language_info": {
   "codemirror_mode": {
    "name": "ipython",
    "version": 2
   },
   "file_extension": ".py",
   "mimetype": "text/x-python",
   "name": "python",
   "nbconvert_exporter": "python",
   "pygments_lexer": "ipython2",
   "version": "2.7.6"
  }
 },
 "nbformat": 4,
 "nbformat_minor": 5
}
