{
 "cells": [
  {
   "metadata": {},
   "cell_type": "markdown",
   "source": "# Greedy Algorithms",
   "id": "b67e9c792e545cab"
  },
  {
   "metadata": {},
   "cell_type": "markdown",
   "source": [
    "Idee:\n",
    "- Löse ein Problem, indem\n",
    "    1. mit einer einfachen Teillösung begonnen und diese\n",
    "    2. schrittweise zu einer globalen Lösung erweitert wird.\n",
    "- Bei Greedy-Algorithmen handelt es sich um einen top-down Ansatz.\n",
    "    - Wähle dabei immer den bestmöglichen Schritt, ohne Berücksichtigung zukünftiger Schritte:\n",
    "    - „Nimm immer das größte Stück zuerst.“\n",
    "    - Engl.: greedy = gierig, gefräßig."
   ],
   "id": "5226e4d746a39ab"
  },
  {
   "metadata": {},
   "cell_type": "markdown",
   "source": [
    "## Problem 1: Coin Change Problem\n",
    "\n",
    "https://leetcode.com/problems/lemonade-change/description/\n",
    "\n",
    "Input: bills = [5,5,5,10,20]\n",
    "Output: true\n",
    "\n",
    "Input: bills = [5,5,10,10,20]\n",
    "Output: false"
   ],
   "id": "64a8b5c03f245c4a"
  },
  {
   "metadata": {
    "ExecuteTime": {
     "end_time": "2025-06-27T10:38:30.321051Z",
     "start_time": "2025-06-27T10:38:30.302552Z"
    }
   },
   "cell_type": "code",
   "source": [
    "inputA = [5,5,5,10,20]\n",
    "inputB = [5,5,10,10,20]\n",
    "\n",
    "def solve(problem):\n",
    "    money = {5: 0, 10: 0, 20:0}\n",
    "    for x in problem:\n",
    "        if x == 5:\n",
    "            money[5] += 1\n",
    "        elif x == 10:\n",
    "            money[5] -= 1\n",
    "            if money[5] < 0:\n",
    "                print(money)\n",
    "                return False\n",
    "            money[10] += 1\n",
    "        elif x == 20:\n",
    "            change = 0\n",
    "            if money[10] > 0:\n",
    "                money[10] -= 1\n",
    "                change += 10\n",
    "            while change != 15:\n",
    "                money[5] -= 1\n",
    "                change += 5\n",
    "                if money[5] < 0:\n",
    "                    print(money)\n",
    "                    return False\n",
    "            money[20] += 1\n",
    "        else:\n",
    "            print(\"Wrong bill: \" + x)\n",
    "            return False\n",
    "    print(money)\n",
    "    return True\n",
    "\n",
    "\n",
    "print(solve(inputA))\n",
    "print(solve(inputB))"
   ],
   "id": "449897852e916887",
   "outputs": [
    {
     "name": "stdout",
     "output_type": "stream",
     "text": [
      "{5: 1, 10: 0, 20: 1}\n",
      "True\n",
      "{5: -1, 10: 1, 20: 0}\n",
      "False\n"
     ]
    }
   ],
   "execution_count": 21
  },
  {
   "metadata": {},
   "cell_type": "markdown",
   "source": "nicht das effizienteste aber funktioniert. While schleife kann weg und durch if else ersetzt werden",
   "id": "deff714bc105fe8b"
  },
  {
   "metadata": {},
   "cell_type": "markdown",
   "source": [
    "## Problem 2: Non-overlapping Intervals\n",
    "\n",
    "https://leetcode.com/problems/non-overlapping-intervals/description/\n",
    "\n",
    "Example 1:\n",
    "\n",
    "Input: intervals = [[1,2],[2,3],[3,4],[1,3]]\n",
    "Output: 1\n",
    "Explanation: [1,3] can be removed and the rest of the intervals are non-overlapping.\n",
    "\n",
    "\n",
    "Example 2:\n",
    "\n",
    "Input: intervals = [[1,2],[1,2],[1,2]]\n",
    "Output: 2\n",
    "Explanation: You need to remove two [1,2] to make the rest of the intervals non-overlapping.\n",
    "\n",
    "\n",
    "Example 3:\n",
    "\n",
    "Input: intervals = [[1,2],[2,3]]\n",
    "Output: 0\n",
    "Explanation: You don't need to remove any of the intervals since they're already non-overlapping."
   ],
   "id": "a87240954c0b587c"
  },
  {
   "metadata": {},
   "cell_type": "code",
   "outputs": [],
   "execution_count": null,
   "source": [
    "def eraseOverlapIntervals(self, intervals):\n",
    "    \"\"\"\n",
    "    :type intervals: List[List[int]]\n",
    "    :rtype: int\n",
    "    \"\"\"\n",
    "    intervals.sort(key=lambda x: x[1])\n",
    "\n",
    "    removecount = 0\n",
    "    previous_end = float(\"-inf\")\n",
    "    for start, end in intervals:\n",
    "        if start >= previous_end:\n",
    "            # passt keine Überschneidung\n",
    "            previous_end = end\n",
    "        else:\n",
    "            # Überschneidung\n",
    "            removecount += 1\n",
    "    return removecount\n"
   ],
   "id": "f092b5c4c94646bc"
  },
  {
   "metadata": {},
   "cell_type": "markdown",
   "source": "Wenn die Liste sortiert ist dann ist es easy zu vergleichen.",
   "id": "6695d75be87d5e1b"
  },
  {
   "metadata": {},
   "cell_type": "markdown",
   "source": [
    "## Problem 3: Maximize Sum Of Array After K Negations\n",
    "\n",
    "https://leetcode.com/problems/maximize-sum-of-array-after-k-negations/\n",
    "\n",
    "Given an integer array nums and an integer k, modify the array in the following way:\n",
    "\n",
    "choose an index i and replace nums[i] with -nums[i].\n",
    "You should apply this process exactly k times. You may choose the same index i multiple times.\n",
    "\n",
    "Return the largest possible sum of the array after modifying it in this way.\n",
    "\n",
    "Input: nums = [2,-3,-1,5,-4], k = 2\n",
    "\n",
    "Output: 13\n",
    "\n",
    "Explanation: Choose indices (1, 4) and nums becomes [2,3,-1,5,4]."
   ],
   "id": "88624375258b6ac2"
  },
  {
   "metadata": {
    "ExecuteTime": {
     "end_time": "2025-06-27T11:21:37.715097Z",
     "start_time": "2025-06-27T11:21:37.701598Z"
    }
   },
   "cell_type": "code",
   "source": "",
   "id": "3e8875b3be456a7e",
   "outputs": [],
   "execution_count": null
  },
  {
   "metadata": {
    "ExecuteTime": {
     "end_time": "2025-06-27T11:47:00.644746Z",
     "start_time": "2025-06-27T11:47:00.630748Z"
    }
   },
   "cell_type": "code",
   "source": [
    "def largestSumAfterKNegations(nums, k):\n",
    "    \"\"\"\n",
    "    :type nums: List[int]\n",
    "    :type k: int\n",
    "    :rtype: int\n",
    "    \"\"\"\n",
    "    negative_values = 0\n",
    "    for x in nums:\n",
    "        if x < 0:\n",
    "            negative_values += 1\n",
    "\n",
    "    while k != 0:\n",
    "        if k % 2 == 1:\n",
    "            minimum = min(nums)\n",
    "            index = nums.index(minimum)\n",
    "            nums[index] = -nums[index]\n",
    "            if minimum < 0:\n",
    "                negative_values -= 1\n",
    "            else:\n",
    "                negative_values += 1\n",
    "            k -= 1\n",
    "        else:\n",
    "            if negative_values >= 2:\n",
    "                minimum = min(nums)\n",
    "                index = nums.index(minimum)\n",
    "                nums[index] = -nums[index]\n",
    "                negative_values -= 1\n",
    "\n",
    "                minimum = min(nums)\n",
    "                index = nums.index(minimum)\n",
    "                nums[index] = -nums[index]\n",
    "                negative_values -= 1\n",
    "                k -= 2\n",
    "            elif negative_values == 1:\n",
    "                minimum = min(nums)\n",
    "                index = nums.index(minimum)\n",
    "                nums[index] = -nums[index]\n",
    "                negative_values -= 1\n",
    "\n",
    "                minimum = min(nums)\n",
    "                index = nums.index(minimum)\n",
    "                nums[index] = -nums[index]\n",
    "                negative_values += 1\n",
    "                k -= 2\n",
    "            else:\n",
    "                k -= 2\n",
    "\n",
    "    return sum(nums)\n",
    "\n",
    "largestSumAfterKNegations([-2,5,0,2,-2], 3)"
   ],
   "id": "92ce08a1e2b7af",
   "outputs": [
    {
     "data": {
      "text/plain": [
       "11"
      ]
     },
     "execution_count": 25,
     "metadata": {},
     "output_type": "execute_result"
    }
   ],
   "execution_count": 25
  },
  {
   "metadata": {},
   "cell_type": "markdown",
   "source": "krass unperformant kann man mit ner Heapqueue sehr einfach machen",
   "id": "bbd55e3319694c92"
  },
  {
   "metadata": {},
   "cell_type": "code",
   "outputs": [],
   "execution_count": null,
   "source": [
    "from typing import List\n",
    "import heapq\n",
    "\n",
    "\n",
    "class Solution:\n",
    "    def largestSumAfterKNegations(self, nums: List[int], k: int) -> int:\n",
    "        heapq.heapify(nums)\n",
    "        for _ in range(k):\n",
    "            smallest = heapq.heappop(nums)\n",
    "            heapq.heappush(nums, -smallest)\n",
    "        return sum(nums)"
   ],
   "id": "e93d27a90ebbd555"
  },
  {
   "metadata": {},
   "cell_type": "markdown",
   "source": [
    "## Problem 4: Network Delay Time\n",
    "\n",
    "https://leetcode.com/problems/network-delay-time/description/\n",
    "\n",
    "You are given a network of n nodes, labeled from 1 to n. You are also given times, a list of travel times as directed edges times[i] = (ui, vi, wi), where ui is the source node, vi is the target node, and wi is the time it takes for a signal to travel from source to target.\n",
    "\n",
    "We will send a signal from a given node k. Return the minimum time it takes for all the n nodes to receive the signal. If it is impossible for all the n nodes to receive the signal, return -1.\n",
    "\n",
    "\n",
    "![image.png](attachment:2c50fb82-b2d4-4986-9730-93d184146c83.png)"
   ],
   "id": "c53941985a4085f",
   "attachments": {
    "2c50fb82-b2d4-4986-9730-93d184146c83.png": {
     "image/png": "[encoded data removed]"
    }
   }
  },
  {
   "metadata": {
    "ExecuteTime": {
     "end_time": "2025-06-27T12:42:51.107011Z",
     "start_time": "2025-06-27T12:42:51.094512Z"
    }
   },
   "cell_type": "code",
   "source": [
    "from collections import defaultdict\n",
    "\n",
    "class Solution(object):\n",
    "\n",
    "    def networkDelayTime(self, times, n, k):\n",
    "        \"\"\"\n",
    "        :type times: List[List[int]]\n",
    "        :type n: int\n",
    "        :type k: int\n",
    "        :rtype: int\n",
    "        \"\"\"\n",
    "        graph = defaultdict(list)\n",
    "        for u,v,w in times:\n",
    "            graph[u].append((v, w))\n",
    "\n",
    "        heap = [(0, k)]\n",
    "        dist = {}\n",
    "\n",
    "        while heap:\n",
    "            time, node = heapq.heappop(heap)\n",
    "            if node in dist:\n",
    "                continue\n",
    "            dist[node] = time\n",
    "            for neighbor, weight in graph[node]:\n",
    "                if neighbor not in dist:\n",
    "                    heapq.heappush(heap, (time + weight, neighbor))\n",
    "\n",
    "        if len(dist) < n:\n",
    "            return -1\n",
    "\n",
    "        return max(dist.values())\n"
   ],
   "id": "d47e1ca4346504f5",
   "outputs": [],
   "execution_count": 29
  },
  {
   "metadata": {},
   "cell_type": "markdown",
   "source": [
    "Merksatz:\n",
    "Dijkstra verarbeitet jeden Knoten genau dann, wenn der kürzeste Weg zu ihm bekannt ist. Danach kann kein besserer mehr kommen.\n",
    "Deshalb funktioniert Dijkstra nur mit einem Min-Heap / Priority Queue korrekt."
   ],
   "id": "c6f9be76a2663c28"
  },
  {
   "metadata": {},
   "cell_type": "markdown",
   "source": [
    "## Greedy Graph Coloring\n",
    "\n",
    "Gegeben ist ein ungerichteter Graph mit n = 6 Knoten.\n",
    "Die Knoten sind nummeriert von 0 bis 5.\n",
    "Die Nachbarschaften sind wie folgt gegeben:\n",
    "\n",
    "adjacency = {\n",
    "    0: [1, 2],\n",
    "    1: [0, 2, 3],\n",
    "    2: [0, 1, 3],\n",
    "    3: [1, 2, 4],\n",
    "    4: [3, 5],\n",
    "    5: [4]\n",
    "}\n",
    "\n",
    "Deine Aufgabe ist es, die kleinste gültige Einfärbung der Knoten mit einem Greedy-Algorithmus zu berechnen.\n",
    "Zwei benachbarte Knoten dürfen nicht dieselbe Farbe haben.\n",
    "Du darfst beliebig viele Farben verwenden, aber dein Ziel ist es, möglichst wenige Farben zu benutzen."
   ],
   "id": "353f34a1ead41659"
  },
  {
   "metadata": {
    "ExecuteTime": {
     "end_time": "2025-06-27T13:56:05.386160Z",
     "start_time": "2025-06-27T13:56:05.375662Z"
    }
   },
   "cell_type": "code",
   "source": [
    "adjacency = {\n",
    "    0: [1, 2],\n",
    "    1: [0, 2, 3],\n",
    "    2: [0, 1, 3],\n",
    "    3: [1, 2, 4],\n",
    "    4: [3, 5],\n",
    "    5: [4]\n",
    "}\n",
    "\n",
    "def colorGraph(adj):\n",
    "    colors =  {}\n",
    "    for node, neighbors in adj.items():\n",
    "        neighborColors = []\n",
    "        ownColor = 0\n",
    "        if node not in colors.keys():\n",
    "            colors[node] = None\n",
    "        for neighbor in neighbors:\n",
    "            if neighbor in colors and colors[neighbor] is not None:\n",
    "                neighborColors.append(colors[neighbor])\n",
    "        while ownColor in neighborColors:\n",
    "            ownColor += 1\n",
    "        colors[node] = ownColor\n",
    "\n",
    "    return colors\n",
    "\n",
    "print(colorGraph(adjacency))\n"
   ],
   "id": "28cca86288214446",
   "outputs": [
    {
     "name": "stdout",
     "output_type": "stream",
     "text": [
      "{0: 0, 1: 1, 2: 2, 3: 0, 4: 1, 5: 0}\n"
     ]
    }
   ],
   "execution_count": 36
  },
  {
   "metadata": {},
   "cell_type": "markdown",
   "source": [
    "## MST Minimal Spanning Tree\n",
    "\n",
    "Prim: Erweiterung von Dijkstra algo, von Startknoten aus wird immer der billigste Knoten besucht, so zu jeder zeit MST\n",
    "\n",
    "Kruskal: Wald und PriorityQueue mit den Kanten. Billigste Kante wird genommen und die beiden Knoten zu einem Baum zsm gemerged bis nur noch ein Baum übrig ist.\n",
    "\n",
    "Problem: Min Cost to Connect All Points\n",
    "\n",
    "https://leetcode.com/problems/min-cost-to-connect-all-points/description/"
   ],
   "id": "798251b6a62f5760"
  },
  {
   "metadata": {
    "ExecuteTime": {
     "end_time": "2025-06-28T08:24:21.675542Z",
     "start_time": "2025-06-28T08:24:21.661542Z"
    }
   },
   "cell_type": "code",
   "source": [
    "x = [[0,0],[2,2],[3,10],[5,2],[7,0]]\n",
    "\n",
    "def get_all_edges(points):\n",
    "    edges = []\n",
    "    n = len(points)\n",
    "    for i in range(n):\n",
    "        x1, y1 = points[i]\n",
    "        for j in range(i + 1, n):\n",
    "            x2, y2 = points[j]\n",
    "            dist = abs(x1 - x2) + abs(y1 - y2)\n",
    "            edges.append((dist, i, j))  # Format: (cost, from, to)\n",
    "    return edges\n",
    "\n",
    "class UnionFind:\n",
    "    def __init__(self, size):\n",
    "        self.parent = list(range(size))\n",
    "\n",
    "    def find(self, x):\n",
    "        if self.parent[x] != x:\n",
    "            self.parent[x] = self.find(self.parent[x])\n",
    "        return self.parent[x]\n",
    "\n",
    "    def union(self, x, y):\n",
    "        rootX = self.find(x)\n",
    "        rootY = self.find(y)\n",
    "        if rootX == rootY:\n",
    "            return False\n",
    "        self.parent[rootY] = rootX\n",
    "        return True\n",
    "\n",
    "def minCostConnectPoints(points):\n",
    "    n = len(points)\n",
    "    edges = get_all_edges(points)\n",
    "    edges.sort()\n",
    "    print(edges)\n",
    "\n",
    "    forest = UnionFind(n)\n",
    "    total = 0\n",
    "    count = 0\n",
    "\n",
    "    for cost, u, v in edges:\n",
    "        if forest.union(u,v):\n",
    "            total += cost\n",
    "            count += 1\n",
    "            if count == n -1:\n",
    "                break\n",
    "\n",
    "    return total\n",
    "\n",
    "minCostConnectPoints(x)"
   ],
   "id": "44b0e7920b8357e1",
   "outputs": [
    {
     "name": "stdout",
     "output_type": "stream",
     "text": [
      "[(3, 1, 3), (4, 0, 1), (4, 3, 4), (7, 0, 3), (7, 0, 4), (7, 1, 4), (9, 1, 2), (10, 2, 3), (13, 0, 2), (14, 2, 4)]\n"
     ]
    },
    {
     "data": {
      "text/plain": [
       "20"
      ]
     },
     "execution_count": 9,
     "metadata": {},
     "output_type": "execute_result"
    }
   ],
   "execution_count": 9
  },
  {
   "metadata": {},
   "cell_type": "markdown",
   "source": "Funktioniert aber exceeded das Zeitlimit für den letzten Testcase auf Leetcode",
   "id": "fd0265843b5dc891"
  },
  {
   "metadata": {},
   "cell_type": "markdown",
   "source": "Das ganze mit Prims algo:",
   "id": "b1ccea53bf29a049"
  },
  {
   "metadata": {
    "ExecuteTime": {
     "end_time": "2025-06-28T08:46:22.776844Z",
     "start_time": "2025-06-28T08:46:22.761842Z"
    }
   },
   "cell_type": "code",
   "source": [
    "import heapq\n",
    "\n",
    "x = [[0,0],[2,2],[3,10],[5,2],[7,0]]\n",
    "\n",
    "def min_cost_connect_points(points):\n",
    "    n = len(points)\n",
    "    visited = [False] * n\n",
    "    min_heap = [(0, 0)]  # (cost, point_index)\n",
    "    total_cost = 0\n",
    "    edges_used = 0\n",
    "\n",
    "    while edges_used < n:\n",
    "        cost, u = heapq.heappop(min_heap)\n",
    "\n",
    "        if visited[u]:\n",
    "            continue\n",
    "\n",
    "        visited[u] = True\n",
    "        total_cost += cost\n",
    "        edges_used += 1\n",
    "\n",
    "        for v in range(n):\n",
    "            if not visited[v]:\n",
    "                dist = abs(points[u][0] - points[v][0]) + abs(points[u][1] - points[v][1])\n",
    "                heapq.heappush(min_heap, (dist, v))\n",
    "\n",
    "    return total_cost\n",
    "\n",
    "min_cost_connect_points(x)"
   ],
   "id": "356e4eea1822eb8e",
   "outputs": [
    {
     "data": {
      "text/plain": [
       "20"
      ]
     },
     "execution_count": 10,
     "metadata": {},
     "output_type": "execute_result"
    }
   ],
   "execution_count": 10
  }
 ],
 "metadata": {
  "kernelspec": {
   "display_name": "Python 3",
   "language": "python",
   "name": "python3"
  },
  "language_info": {
   "codemirror_mode": {
    "name": "ipython",
    "version": 2
   },
   "file_extension": ".py",
   "mimetype": "text/x-python",
   "name": "python",
   "nbconvert_exporter": "python",
   "pygments_lexer": "ipython2",
   "version": "2.7.6"
  }
 },
 "nbformat": 4,
 "nbformat_minor": 5
}
